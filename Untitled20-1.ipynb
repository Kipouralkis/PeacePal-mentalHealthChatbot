{
  "nbformat": 4,
  "nbformat_minor": 0,
  "metadata": {
    "colab": {
      "provenance": []
    },
    "kernelspec": {
      "name": "python3",
      "display_name": "Python 3"
    },
    "language_info": {
      "name": "python"
    }
  },
  "cells": [
    {
      "cell_type": "code",
      "source": [
        "from google.colab import drive\n",
        "drive.mount('/content/drive')"
      ],
      "metadata": {
        "colab": {
          "base_uri": "https://localhost:8080/"
        },
        "id": "8N4a35f5GkU8",
        "outputId": "8e1b9bb9-0361-4e84-8abd-cbefd3f3a0a8"
      },
      "execution_count": 60,
      "outputs": [
        {
          "output_type": "stream",
          "name": "stdout",
          "text": [
            "Drive already mounted at /content/drive; to attempt to forcibly remount, call drive.mount(\"/content/drive\", force_remount=True).\n"
          ]
        }
      ]
    },
    {
      "cell_type": "markdown",
      "source": [
        "#Load Sentiment Model\n"
      ],
      "metadata": {
        "id": "ayUM5xbHEUV-"
      }
    },
    {
      "cell_type": "code",
      "source": [
        "import pickle\n",
        "import numpy as np\n",
        "import nltk\n",
        "from nltk.corpus import RegexpTokenizer\n",
        "from nltk.stem import WordNetLemmatizer\n",
        "from nltk.corpus import stopwords"
      ],
      "metadata": {
        "id": "QaLe1YAlEzrR"
      },
      "execution_count": 61,
      "outputs": []
    },
    {
      "cell_type": "code",
      "source": [
        "# Load other tools for text preprocessing\n",
        "\n",
        "nltk.download('punkt')\n",
        "nltk.download('stopwords')\n",
        "nltk.download('wordnet')"
      ],
      "metadata": {
        "colab": {
          "base_uri": "https://localhost:8080/"
        },
        "id": "7e-1MPX4NX0o",
        "outputId": "b440de8c-90c4-443e-bf41-e2457abaeb27"
      },
      "execution_count": 62,
      "outputs": [
        {
          "output_type": "stream",
          "name": "stderr",
          "text": [
            "[nltk_data] Downloading package punkt to /root/nltk_data...\n",
            "[nltk_data]   Package punkt is already up-to-date!\n",
            "[nltk_data] Downloading package stopwords to /root/nltk_data...\n",
            "[nltk_data]   Package stopwords is already up-to-date!\n",
            "[nltk_data] Downloading package wordnet to /root/nltk_data...\n",
            "[nltk_data]   Package wordnet is already up-to-date!\n"
          ]
        },
        {
          "output_type": "execute_result",
          "data": {
            "text/plain": [
              "True"
            ]
          },
          "metadata": {},
          "execution_count": 62
        }
      ]
    },
    {
      "cell_type": "markdown",
      "source": [
        "##Define object classes"
      ],
      "metadata": {
        "id": "2FlcT4CoFV5f"
      }
    },
    {
      "cell_type": "code",
      "source": [
        "class MajorityVoteClassifier(object):\n",
        "    def __init__(self, classifiers):\n",
        "        self.classifiers = classifiers\n",
        "\n",
        "    def predict(self, X):\n",
        "        predictions = []\n",
        "        for clf in self.classifiers:\n",
        "            predictions.append(clf.predict(X))\n",
        "\n",
        "        # Perform majority vote\n",
        "        majority_vote = np.apply_along_axis(lambda x: np.argmax(np.bincount(x)), axis=0, arr=predictions)\n",
        "        return majority_vote\n",
        "\n",
        "    @classmethod\n",
        "    def load(cls, filename):\n",
        "        with open(filename, 'rb') as f:\n",
        "            return pickle.load(f)"
      ],
      "metadata": {
        "id": "ga6JfektEoSa"
      },
      "execution_count": 63,
      "outputs": []
    },
    {
      "cell_type": "code",
      "source": [
        "class TfidfEmbeddingVectorizer(object):\n",
        "\n",
        "    def __init__(self, word_model):\n",
        "        self.word_model = word_model\n",
        "         #word_model represents the pre-trained word embedding model\n",
        "        self.word_idf_weight = None\n",
        "        #This attribute will later store the IDF (Inverse Document Frequency) weights of the words.\n",
        "        self.vector_size = word_model.vector_size\n",
        "        #The vector_size attribute is set to the dimensionality of the word vectors in the word_model\n",
        "        self.is_fitted = False\n",
        "\n",
        "    def default_idf(self):\n",
        "      return self.max_idf\n",
        "\n",
        "    def fit(self, docs): # comply with scikit-learn transformer requirement\n",
        "        \"\"\"\n",
        "        Fit in a list of docs, which had been preprocessed and tokenized,\n",
        "        such as word bi-grammed, stop-words removed, lemmatized, part of speech filtered.\n",
        "        Then build up a tfidf model to compute each word's idf as its weight.\n",
        "        Noted that tf weight is already involved when constructing average word vectors, and thus omitted.\n",
        "        :param: pre_processed_docs: list of docs, which are tokenized\n",
        "        :return: self\n",
        "        \"\"\"\n",
        "        text_docs = []\n",
        "        for doc in docs:\n",
        "            text_docs.append(\" \".join(doc))\n",
        "\n",
        "        tfidf = TfidfVectorizer()  # default 1-gram \n",
        "        tfidf.fit(text_docs) # must be list of text string\n",
        "\n",
        "        # if a word was never seen - it must be at least as infrequent\n",
        "        # as any of the known words - so the default idf is the max of\n",
        "        # known idf's\n",
        "        max_idf = max(tfidf.idf_)    # used as default value for defaultdict\n",
        "\n",
        "        # Create the word_idf_weight defaultdict using a lambda function\n",
        "        # self.word_idf_weight = defaultdict(lambda: max_idf)\n",
        "\n",
        "        # Create the word_idf_weight defaultdict using the default_idf function\n",
        "        # self.word_idf_weight = defaultdict(default_idf)\n",
        "        self.max_idf = max(tfidf.idf_)\n",
        "        self.word_idf_weight = defaultdict(self.default_idf)\n",
        "\n",
        "\n",
        "        # Populate the word_idf_weight defaultdict with the word and idf pairs\n",
        "        for word, i in tfidf.vocabulary_.items():\n",
        "            self.word_idf_weight[word] = tfidf.idf_[i]\n",
        "\n",
        "        self.is_fitted = True  # Set the flag to True after fitting\n",
        "\n",
        "        return self\n",
        "\n",
        "    def transform(self, docs):       # comply with scikit-learn transformer requirement\n",
        "        doc_word_vector = self.word_average_list(docs)\n",
        "        return doc_word_vector\n",
        "\n",
        "    def word_average(self, sent):\n",
        "        \"\"\"\n",
        "        Compute average word vector for a single doc/sentence.\n",
        "        :param sent: list of sentence tokens\n",
        "        :return:\n",
        "            mean: float of averaging word vectors\n",
        "        \"\"\"\n",
        "\n",
        "        mean = []\n",
        "        for word in sent:\n",
        "            if word in self.word_model.key_to_index:\n",
        "                vector = self.word_model.get_vector(word)\n",
        "                mean.append(vector * self.word_idf_weight[word])  # idf weighted\n",
        "\n",
        "        if not mean:\n",
        "            return np.zeros(self.vector_size)\n",
        "        else:\n",
        "            mean = np.array(mean).mean(axis=0)\n",
        "            return mean\n",
        "\n",
        "    def word_average_list(self, docs):\n",
        "        \"\"\"\n",
        "        Compute average word vector for multiple docs, where docs had been tokenized.\n",
        "        :param docs: list of sentence in list of separated tokens\n",
        "        :return:\n",
        "            array of average word vector in shape (len(docs),)\n",
        "        \"\"\"\n",
        "        return np.vstack([self.word_average(sent) for sent in docs])\n",
        "\n",
        "    \n",
        "    def save(self, filename):\n",
        "        \"\"\"\n",
        "        Save the vectorizer to a file using pickle.\n",
        "        :param filename: Name of the file to save the vectorizer.\n",
        "        \"\"\"\n",
        "        with open(filename, 'wb') as f:\n",
        "            pickle.dump(self, f)\n",
        "\n",
        "\n",
        "    @classmethod\n",
        "    def load(cls, filename):\n",
        "        \"\"\"\n",
        "        Load the vectorizer from a file.\n",
        "        :param filename: Name of the file to load the vectorizer from.\n",
        "        :return: An instance of the TfidfEmbeddingVectorizer class.\n",
        "        \"\"\"\n",
        "        with open(filename, 'rb') as f:\n",
        "            return pickle.load(f)\n",
        "\n",
        "\n",
        "            \n",
        "#In summary, this class combines the TF-IDF vectorization technique with pre-trained word embeddings \n",
        "#to transform preprocessed and tokenized documents into average word vector representations that are weighted by IDF. \n",
        "#The resulting vectors can be used as input features for various machine learning models or downstream tasks.        \n"
      ],
      "metadata": {
        "id": "PfznH6i1sJdk"
      },
      "execution_count": 64,
      "outputs": []
    },
    {
      "cell_type": "markdown",
      "source": [
        "##Load Trained Models"
      ],
      "metadata": {
        "id": "eI01qKTUFZ_N"
      }
    },
    {
      "cell_type": "code",
      "source": [
        "# Load the vectorizer from a file\n",
        "loaded_vectorizer = TfidfEmbeddingVectorizer.load('/content/drive/MyDrive/chatbot_data/tfidf_vec_tr.pkl')\n",
        "\n",
        "# Load the weights from a file\n",
        "with open('/content/drive/MyDrive/chatbot_data/word_idf_weights.pkl', 'rb') as file:\n",
        "    loaded_word_idf_weights = pickle.load(file)\n",
        "\n",
        "# Create an instance of TfidfEmbeddingVectorizer using the loaded vectorizer\n",
        "tfidf_vec_tr = TfidfEmbeddingVectorizer(loaded_vectorizer.word_model)\n",
        "\n",
        "tfidf_vec_tr.word_idf_weight = loaded_word_idf_weights"
      ],
      "metadata": {
        "id": "5JfHx7jrFi4o"
      },
      "execution_count": 65,
      "outputs": []
    },
    {
      "cell_type": "code",
      "source": [
        "# Load the model\n",
        "model = MajorityVoteClassifier.load('/content/drive/MyDrive/chatbot_data/majority_vote_model.pkl')"
      ],
      "metadata": {
        "id": "s8oPwkGuFsqT"
      },
      "execution_count": 66,
      "outputs": []
    },
    {
      "cell_type": "markdown",
      "source": [
        "#Load Chatbot Model"
      ],
      "metadata": {
        "id": "czZCzGhBEZAC"
      }
    },
    {
      "cell_type": "code",
      "source": [
        "!pip -q install transformers"
      ],
      "metadata": {
        "id": "Xfv_DLGkBEWe"
      },
      "execution_count": 67,
      "outputs": []
    },
    {
      "cell_type": "code",
      "source": [
        "saved_model_dir = '/content/drive/MyDrive/chatbot_data/version1' # path to the model file"
      ],
      "metadata": {
        "id": "1ykhAjjTA8fe"
      },
      "execution_count": 68,
      "outputs": []
    },
    {
      "cell_type": "code",
      "execution_count": 69,
      "metadata": {
        "id": "ak8AjSHC-hJ4"
      },
      "outputs": [],
      "source": [
        "from transformers import AutoModelForCausalLM, AutoTokenizer\n",
        "import torch\n",
        "\n",
        "tokenizer = AutoTokenizer.from_pretrained('microsoft/DialoGPT-medium', padding_side=\"left\")\n",
        "chatbot = AutoModelForCausalLM.from_pretrained(saved_model_dir)"
      ]
    },
    {
      "cell_type": "markdown",
      "source": [
        "#Load Roberta Model"
      ],
      "metadata": {
        "id": "OX50iSBWj2dP"
      }
    },
    {
      "cell_type": "code",
      "source": [
        "import re\n",
        "from transformers import AutoModelForQuestionAnswering, AutoTokenizer, pipeline"
      ],
      "metadata": {
        "id": "lUrdpbcCjdJU"
      },
      "execution_count": 70,
      "outputs": []
    },
    {
      "cell_type": "code",
      "source": [
        "model_rob_name = \"deepset/roberta-base-squad2\"\n",
        "model_rob = AutoModelForQuestionAnswering.from_pretrained(model_rob_name)\n",
        "tokenizer_model_rob = AutoTokenizer.from_pretrained(model_rob_name)\n",
        "# Creating the Q&A pipeline\n",
        "nlp = pipeline('question-answering', model_rob=model_rob_name, tokenizer_model_rob=model_rob_name)"
      ],
      "metadata": {
        "colab": {
          "base_uri": "https://localhost:8080/"
        },
        "id": "mWBA6lG-jv1N",
        "outputId": "cb17a931-f8e2-4bbd-c4bb-3d1fc1abbb66"
      },
      "execution_count": 113,
      "outputs": [
        {
          "output_type": "stream",
          "name": "stderr",
          "text": [
            "No model was supplied, defaulted to distilbert-base-cased-distilled-squad and revision 626af31 (https://huggingface.co/distilbert-base-cased-distilled-squad).\n",
            "Using a pipeline without specifying a model name and revision in production is not recommended.\n"
          ]
        }
      ]
    },
    {
      "cell_type": "code",
      "source": [
        "#Contextual Text / corpus\n",
        "\n",
        "text_rob = \"\"\"\n",
        "Argentina Helpline: 08003451435\n",
        "\n",
        "Australia Helpline: 13 11 14 \n",
        "\n",
        "Austria Helpline: 142\n",
        "\n",
        "Bangladesh Helpline: 09612-119911\n",
        "\n",
        "Barbados Helpline: (246) 4299999\n",
        "\n",
        "Belarus Helpline: 375(29)101-73-73\n",
        "\n",
        "Belgium Helpline: 107\n",
        "\n",
        "Bosnia and Herzegovina Helpline: 080050305\n",
        "\n",
        "Brazil Helpline: 188 \n",
        "\n",
        "Bulgaria Helpline: 116111\n",
        "\n",
        "Canada Helpline: (855)242-3310, Specyfic or kids: 1-800-6686868\n",
        "\n",
        "Chile Helpline: 1515 (for youth), 67613603\n",
        "\n",
        "Colombia Helpline:106\n",
        "\n",
        "Costa Rica Helpline:(506) 2272–3774\n",
        "\n",
        "Croatia Helpline: 014828888\n",
        "\n",
        "Cyprus Helpline: For kids/parents 1466\n",
        "\n",
        "Denmark\tHelpline: 116111\n",
        "\n",
        "Ecuador\tHelpline: (593)997196911\n",
        "\n",
        "Estonia\tHelpline: 6558088\n",
        "\n",
        "Fiji\tHelpline: 1543\n",
        "\n",
        "Finland\tHelpline: 020391920\n",
        "\n",
        "France\tHelpline: 3114\n",
        "\n",
        "Germany\tHelpline: 08001110111\n",
        "\n",
        "Gibraltar\tHelpline: 116123\n",
        "\n",
        "Greece Helpline: 1018 \n",
        "\n",
        "Guyana Helpline: (592)600-7896\n",
        "\n",
        "Hong Kong\t Helpline: 28960000\n",
        "\n",
        "Hungary  Helpline: 116123\n",
        "\n",
        "Iceland  Helpline: 1717\t\n",
        "\n",
        "India  Helpline:\t1800121203040\n",
        "\n",
        "Iran\tHelpline: https://irancrisisline.org/\n",
        "\n",
        "Ireland\t Helpline: 116123\n",
        "\n",
        "Israel Helpline: 1201\n",
        "\n",
        "Italy\t Helpline: (022)327-2327\n",
        "\n",
        "Japan\t Helpline: 03-5774-0992\n",
        "\n",
        "Kenya\t Helpline: (072)217-8177\n",
        "\n",
        "Latvia Helpline: 116123\n",
        "\n",
        "Lithuania\t Helpline: 116123\n",
        "\n",
        "Luxembourg  Helpline: 454545\n",
        "\n",
        "Malaysia Helpline: 0327806803\n",
        "\n",
        "Malta Helpline:\t179\n",
        "\n",
        "Mauritius\tHelpline: 800-1111\n",
        "\n",
        "Mexico\tHelpline: 55-259-8121\n",
        "\n",
        "New Zealand\tHelpline: 4357\n",
        "\n",
        "Norway Helpline:\t116123\n",
        "\n",
        "Pakistan Helpline: 03041111741\n",
        "\n",
        "Peru Helpline: 113\n",
        "\n",
        "Poland Helpline:\t800702222\n",
        "\n",
        "Portugal Helpline: 225506070\n",
        "\n",
        "Romania\tHelpline: 0374456420\n",
        "\n",
        "Singapore Helpline:\t1767\n",
        "\n",
        "Slovakia Helpline:\t0800800566\n",
        "\n",
        "Slovenia Helpline: 116123\n",
        "\n",
        "South Africa Helpline: 0117811852\n",
        "\n",
        "South Korea\tHelpline: 1566-2525\n",
        "\n",
        "Spain\tHelpline: 900525100\n",
        "\n",
        "Sri Lanka\tHelpline: 1333\n",
        "\n",
        "Sweden Helpline: 116111\n",
        "\n",
        "Switzerland\tHelpline: 147\n",
        "\n",
        "Thailand\tHelpline: 02-113-6789\n",
        "\n",
        "Netherlands\tHelpline: 09001450\n",
        "\n",
        "China\tHelpline: 4008960960\n",
        "\n",
        "Philippines\tHelpline: 1800-1888-1553\n",
        "\n",
        "Taiwan Helpline: 1995\n",
        "\n",
        "United Kingdom Helpline:\t0800 689 5652\n",
        "\n",
        "United States Helpline:\t1-800-662-4357\n",
        "\n",
        "Ukraine\tHelpline: 7333\n",
        "\n",
        "Serbia Helpline:\t0800-300-303\n",
        "\n",
        "If these helplines do not meet your needs, you can visit https://findahelpline.com/ for additional options.\n",
        "\n",
        "Symptoms of Stress:\n",
        "- Anxiety\n",
        "- Skin problems\n",
        "- Menstrual problems\n",
        "- Headaches\n",
        "- Trouble sleeping\n",
        "- Jaw pain\n",
        "- Changes in appetite\n",
        "- Frequent mood swings\n",
        "- Difficulty concentrating\n",
        "- Feeling overwhelmed\n",
        "- Increased use of tobacco, alcohol, or drugs\n",
        "- Worsening of chronic health or mental health problems\n",
        "\n",
        "Ways to Reduce Stress:\n",
        "1. Accept your needs: Recognize what your triggers are. What situations make you feel physically and mentally agitated? Once you know this, you can avoid them when it's reasonable to, and cope when you can't.\n",
        "2. Manage your time: Prioritizing your activities can help you use your time well. Making a day-to-day schedule helps ensure you don't feel overwhelmed by everyday tasks and deadlines.\n",
        "3. Practice relaxation: Deep breathing, meditation, and progressive muscle relaxation are good ways to calm yourself. Taking a break to refocus can have benefits beyond the immediate moment.\n",
        "4. Exercise daily: Schedule time to walk outside, bike, or join a dance class. Whatever you do, make sure it's fun. Daily exercise naturally produces stress-relieving hormones in your body and improves your overall physical health.\n",
        "5. Set aside time for yourself: Schedule something that makes you feel good. It might be reading a book, going to the movies, getting a massage, or taking your dog for a walk.\n",
        "6. Eat well: Eating unprocessed foods, like whole grains, vegetables, and fresh fruit, is the foundation for a healthy body and mind. Eating well can also help stabilize your mood.\n",
        "7. Get enough sleep: Symptoms of some mental health conditions, like mania in bipolar disorder, can be triggered by getting too little sleep.\n",
        "8. Avoid alcohol and drugs: They don't actually reduce stress; in fact, they often worsen it. If you're struggling with substance abuse, educate yourself and get help.\n",
        "9. Talk to someone: Whether to friends, family, a counselor, or a support group, airing out and talking can help.\n",
        "\n",
        "\"\"\""
      ],
      "metadata": {
        "id": "uUw-Tuup4i05"
      },
      "execution_count": 72,
      "outputs": []
    },
    {
      "cell_type": "markdown",
      "source": [
        "#Define functions"
      ],
      "metadata": {
        "id": "6pGQNhXaGTDe"
      }
    },
    {
      "cell_type": "code",
      "source": [
        "# functions to get user's name and location\n",
        "\n",
        "import random\n",
        "\n",
        "# Function to ask for user's name\n",
        "def ask_user_name():\n",
        "    name_variations = [\n",
        "      \"May I know your name?\",\n",
        "      \"Could you please tell me your name?\",\n",
        "      \"I'd love to know what your name is.\",\n",
        "      \"Do you mind sharing your name with me?\",\n",
        "      \"What should I call you?\",\n",
        "      \"Could you introduce yourself by telling me your name?\",\n",
        "      \"May I inquire about your name?\",\n",
        "      \"What name do you go by?\",\n",
        "      \"I'm curious, what's your name?\",\n",
        "      \"Would you be kind enough to let me know your name?\"]\n",
        "\n",
        "    random_name_variation = random.choice(name_variations)\n",
        "    print(\">> Pandora: {}\\n\".format(random_name_variation))\n",
        "    print('[Please enter only your first name.]\\n')\n",
        "    user_name = input()\n",
        "    while len(user_name.split()) > 1:\n",
        "        print(\">> Pandora: Please enter only your first name.\")\n",
        "        user_name = input()\n",
        "    return user_name\n",
        "\n",
        "# Function to ask for user's country\n",
        "def ask_user_country(user_name):\n",
        "\n",
        "    country_questions = [\n",
        "      \"Which country are you from?\",\n",
        "      \"May I know the country you call home?\",\n",
        "      \"Could you kindly share your country of residence?\",\n",
        "      \"In which country do you currently reside?\",\n",
        "      \"What country do you hail from?\",\n",
        "      \"What's the name of your home country?\",\n",
        "      \"I'm curious, what's your country?\",\n",
        "      \"Could you let me know the country you belong to?\",\n",
        "      \"From which country do you originate?\",\n",
        "      \"What is the country of your citizenship?\"]\n",
        "\n",
        "    random_question = random.choice(country_questions)\n",
        "    print(\">> Pandora: Nice to meet you, {}.\".format(user_name))\n",
        "    print(\">> Pandora: {}[Please enter only your country.]\\n\".format(random_question))\n",
        "    user_country = input()\n",
        "    while len(user_country.split()) > 2:\n",
        "        print(\">> Pandora: Please enter only your country.\")\n",
        "        user_country = input()\n",
        "    return user_country"
      ],
      "metadata": {
        "id": "iE_Pyy0CWUlN"
      },
      "execution_count": 73,
      "outputs": []
    },
    {
      "cell_type": "code",
      "source": [
        "# functions to perform sentiment analysis on user's answers\n",
        "\n",
        "def preprocess_text(text):\n",
        "\n",
        "  # tokenization\n",
        "  tokenizer = RegexpTokenizer(r'[a-zA-Z]{2,}') #remove number and words has only one character\n",
        "  ttext = tokenizer.tokenize(text.lower())\n",
        "\n",
        "  # filter stopwords\n",
        "  words = [w for w in ttext if not w in stopwords.words('english')]\n",
        "\n",
        "  lemmatizer = WordNetLemmatizer()\n",
        "  lemma_text = [lemmatizer.lemmatize(i) for i in words]\n",
        "\n",
        "  return tfidf_vec_tr.transform([lemma_text])\n",
        "  \n",
        "\n",
        "def sentiment_analysis(text, model):\n",
        "    # Preprocess the input text if required\n",
        "    processed_text = preprocess_text(text)\n",
        "    \n",
        "    # Make predictions using the loaded model\n",
        "    predictions = model.predict(processed_text)\n",
        "\n",
        "    return predictions"
      ],
      "metadata": {
        "id": "E7cZhx4dGU_2"
      },
      "execution_count": 74,
      "outputs": []
    },
    {
      "cell_type": "code",
      "source": [
        "# function initiates conversation with the trained chatbot\n",
        "\n",
        "def make_conversation(turns):\n",
        "  \n",
        "  user_inputs = []\n",
        "\n",
        "  for x in range(turns):\n",
        "      # Simulate a single turn of User-Bot conversation without chat history\n",
        "      generated_responses = []  # List to store generated responses\n",
        "      # Simulate a single turn of User-Bot conversation without chat history\n",
        "      user_input = input(\">> User:\")\n",
        "\n",
        "      # save user inputs\n",
        "      user_inputs.append(user_input)\n",
        "      \n",
        "      user_input_ids = tokenizer.encode(user_input + tokenizer.eos_token, return_tensors='pt')\n",
        "\n",
        "      # Generate a response from the model\n",
        "      bot_response_ids = chatbot.generate(user_input_ids, max_length=1000, pad_token_id=tokenizer.eos_token_id)\n",
        "\n",
        "      # Decode the bot's response\n",
        "      bot_response = tokenizer.decode(bot_response_ids[:, user_input_ids.shape[-1]:][0], skip_special_tokens=True)\n",
        "\n",
        "      # Check if the response has been generated before\n",
        "      while bot_response in generated_responses:\n",
        "          # Generate a new response\n",
        "          bot_response_ids = chatbot.generate(user_input_ids, max_length=1000, pad_token_id=tokenizer.eos_token_id)\n",
        "          bot_response = tokenizer.decode(bot_response_ids[:, user_input_ids.shape[-1]:][0], skip_special_tokens=True)\n",
        "\n",
        "      # Print the bot's response (excluding the last response in the loop)\n",
        "      if x < turns - 1:\n",
        "          print(\"Pandora: {}\".format(bot_response))\n",
        "\n",
        "      # Add the response to the list of generated responses\n",
        "      generated_responses.append(bot_response)\n",
        "\n",
        "  return user_inputs"
      ],
      "metadata": {
        "id": "RueGrlpQLmO1"
      },
      "execution_count": 75,
      "outputs": []
    },
    {
      "cell_type": "code",
      "source": [
        "# Main function to run the chatbot\n",
        "def run_chatbot(turns, sentiment_model, model_rob):\n",
        "    print(\">> Pandora: Hello there! I need to take some information from you before we start!\")\n",
        "\n",
        "    user_name = ask_user_name()\n",
        "    user_country = ask_user_country(user_name)\n",
        "\n",
        "    user_inputs = []\n",
        "    print(\">> Pandora: Hello {}!. Let's get started!\\nTell me what's bothering you.\\n\".format(user_name))\n",
        "\n",
        "    while True:\n",
        "        answers = make_conversation(turns)\n",
        "\n",
        "        analysis_text = '. '.join(answers)\n",
        "        prediction = sentiment_analysis(analysis_text, sentiment_model)\n",
        "\n",
        "        if prediction[0] == 0:\n",
        "            print(\">> Pandora: It seems like you're not stressed anymore. If you or someone else need assistance, feel free to reach out anytime. Have a great day!\")\n",
        "            print(\"\\n>> Pandora: What would you like to do next?\")\n",
        "            print(\"[If you want to restart the conversation, please enter 'restart'. If you want to exit, please enter 'exit'.]\\n\")\n",
        "            user_input = input()\n",
        "\n",
        "            if user_input.lower() == \"restart\":\n",
        "               print(\"\\n>> Pandora: Sure! Let's start over.\")\n",
        "               user_name = ask_user_name()\n",
        "               user_country = ask_user_country(user_name)\n",
        "               print(\">> Pandora: Hello {}! Let's get started!\\nTell me what's bothering you.\\n\".format(user_name))\n",
        "               continue\n",
        "            elif user_input.lower() == \"exit\":\n",
        "               print(\"\\n>> Pandora: Goodbye! If you or someone else need any assistance in the future, feel free to reach out. Take care!\")\n",
        "               return user_name, user_country, None\n",
        "               # Stop execution of the loop and exit the program\n",
        "\n",
        "        else:\n",
        "            print(\">> Pandora: {}, I sense that you might be feeling stressed.\\nIf the feelings of stress persist, I suggest you seek help from a qualified mental health professional.\\nIn the meantime, I'm here to help! Would you be interested in learning more about the symptoms of stress so you can assess if that resonates with your own experience?\".format(user_name))\n",
        "            print(\"[Please answer with only yes/no.]\\n\")\n",
        "            proceed = input()\n",
        "            all_yes = True\n",
        "\n",
        "            if proceed.lower() == \"yes\":\n",
        "                # Define the question1 using the user's name\n",
        "                question1 = \"{}, would you like to know the symptoms of stress?\".format(user_name)\n",
        "                # Extract the symptoms of stress based on the context\n",
        "                symptoms = re.findall(r\"- (.+)\", text_rob)\n",
        "                # Print the symptoms of stress\n",
        "                print(\">> Pandora: Symptoms of stress:\")\n",
        "                for symptom in symptoms:\n",
        "                    print(symptom.strip())\n",
        "\n",
        "                # Add 2nd question\n",
        "                print(\"\\n>> Pandora: {}, would you also like some tips on how to reduce stress?\".format(user_name))\n",
        "                print(\"[Please answer with only yes/no.]\\n\")\n",
        "                proceed2 = input()\n",
        "\n",
        "                if proceed2.lower() == \"yes\":\n",
        "                    # Define the question2\n",
        "                    question2 = \"What are some ways to reduce stress?\"\n",
        "                    # Extract the ways to reduce stress based on the context\n",
        "                    ways = text_rob.split(\"Ways to Reduce Stress:\")[1].strip().split(\"\\n\")\n",
        "                    # Print the question and ways to reduce stress\n",
        "                    print(\">> Pandora: Ways to reduce stress:\")\n",
        "                    for way in ways:\n",
        "                        print(way.strip())\n",
        "\n",
        "                    # Add 3rd question\n",
        "                    print(\"\\n>> Pandora: In addition to this information, would you like a helpline in {} that can offer support to help you cope with stress?\".format(user_country))\n",
        "                    print(\"[Please answer with only yes/no.]\\n\")\n",
        "                    proceed3 = input()\n",
        "\n",
        "                    if proceed3.lower() == \"yes\":\n",
        "                        # Define the question3\n",
        "                        question3 = \"Would you like a helpline in {} that can offer support to help you cope with stress?\".format(user_country)\n",
        "                        # Extract the helpline for Country based on the context\n",
        "                        helpline = re.search(r\"{}\\s+Helpline:\\s*([\\d()+\\- ]+)\".format(user_country), text_rob, re.IGNORECASE)\n",
        "                        # Print the helpline for Country\n",
        "                        print(\"\\n>> Pandora: Helpline in {} :\".format(user_country))\n",
        "                        if helpline:\n",
        "                            print(helpline.group(1))\n",
        "                        else:\n",
        "                            print(\"\\n>> Pandora: No helpline found for {}.\".format(user_country))\n",
        "                        # Add last question\n",
        "                        print(\"\\n>> Pandora: If this helpline does not meet your needs, would you like a site that you can visit for additional options?\")\n",
        "                        print(\"[Please answer with only yes/no.]\\n\")\n",
        "                        proceed4 = input()\n",
        "                        if proceed4.lower() == \"yes\":\n",
        "                            QA_input = {\n",
        "                                'question': 'If this helpline does not meet your needs, would you like a site that you can visit for additional options?',\n",
        "                                'context': text_rob\n",
        "                            }\n",
        "                            answer = nlp(QA_input)\n",
        "                            # Get the additional option\n",
        "                            add_option = answer['answer'].split('\\n')\n",
        "                            # Print the Site\n",
        "                            print(\"\\n>> Pandora: Site for additional options:\")\n",
        "                            for option in add_option:\n",
        "                                print(option.strip())\n",
        "                        elif proceed4.lower() == \"no\":\n",
        "                            all_yes = False\n",
        "                            print(\">> Pandora: Alright, if you change your mind or need any assistance, feel free to let me know. Take care!\")\n",
        "                        else:\n",
        "                            print(\">> Pandora: Sorry, I couldn't understand your response. Please answer with 'yes' or 'no'.\")\n",
        "\n",
        "                    elif proceed3.lower() == \"no\":\n",
        "                        all_yes = False\n",
        "                        print(\">> Pandora: Alright, if you change your mind or need any assistance, feel free to let me know. Take care!\")\n",
        "                    else:\n",
        "                        print(\">> Pandora: Sorry, I couldn't understand your response. Please answer with 'yes' or 'no'.\")\n",
        "\n",
        "                elif proceed2.lower() == \"no\":\n",
        "                    all_yes = False\n",
        "                    print(\">> Pandora: Alright, if you change your mind or need any assistance, feel free to let me know. Take care!\")\n",
        "                else:\n",
        "                    print(\">> Pandora: Sorry, I couldn't understand your response. Please answer with 'yes' or 'no'.\")\n",
        "\n",
        "            elif proceed.lower() == \"no\":\n",
        "                all_yes = False\n",
        "                print(\">> Pandora: Alright, if you change your mind or need any assistance, feel free to let me know. Take care!\")\n",
        "            else:\n",
        "                print(\">> Pandora: Sorry, I couldn't understand your response. Please answer with 'yes' or 'no'.\")\n",
        "\n",
        "            if all_yes:\n",
        "                print(\">> Pandora: Thank you for answering all the questions! I hope the information provided is helpful. If you have any more questions or need further assistance, feel free to ask. Take care!\")\n",
        "\n",
        "        print(\"\\n>> Pandora: What else would you like to discuss?\")\n",
        "        print(\"[If you want to restart the conversation please enter restart, if you want to close the chatbot press exit, if you want to continue making conversation just skip]\\n\")\n",
        "        user_input = input()\n",
        "\n",
        "        if user_input.lower() == \"restart\":\n",
        "            print(\"\\n>> Pandora:  Sure! Let's start over.\")\n",
        "            user_name = ask_user_name()\n",
        "            user_country = ask_user_country(user_name)\n",
        "            print(\">> Pandora: Hello {}! Let's get started!\\nTell me what's bothering you.\\n\".format(user_name))\n",
        "            continue\n",
        "        elif user_input.lower() == \"exit\":\n",
        "            print(\"\\n>> Pandora: Goodbye! If you or someone else need any assistance in the future, feel free to reach out. Take care!\")\n",
        "            return user_name, user_country, proceed  # Stop execution of the loop and exit the program \n",
        "\n",
        "        # Conversation continues here based on user input\n"
      ],
      "metadata": {
        "id": "7qlLxtbRYqZU"
      },
      "execution_count": 162,
      "outputs": []
    },
    {
      "cell_type": "markdown",
      "source": [
        "#App"
      ],
      "metadata": {
        "id": "xbc_y7GqEarv"
      }
    },
    {
      "cell_type": "code",
      "source": [
        "turns = 3\n",
        "\n",
        "user_name, user_counrty, proceed = run_chatbot(turns, model, model_rob) # model parameter is the model for sentiment analysis"
      ],
      "metadata": {
        "id": "Jbk8EdtncNi7",
        "colab": {
          "base_uri": "https://localhost:8080/"
        },
        "outputId": "267fa37c-ccd7-450d-affd-6e1aabb347b2"
      },
      "execution_count": 163,
      "outputs": [
        {
          "name": "stdout",
          "output_type": "stream",
          "text": [
            ">> Pandora: Hello there! I need to take some information from you before we start!\n",
            ">> Pandora: I'm curious, what's your name?\n",
            "\n",
            "[Please enter only your first name.]\n",
            "\n",
            "m\n",
            ">> Pandora: Nice to meet you, m.\n",
            ">> Pandora: From which country do you originate?[Please enter only your country.]\n",
            "\n",
            "greece\n",
            ">> Pandora: Hello m!. Let's get started!\n",
            "Tell me what's bothering you.\n",
            "\n",
            ">> User:i am stressed\n"
          ]
        },
        {
          "output_type": "stream",
          "name": "stderr",
          "text": [
            "A decoder-only architecture is being used, but right-padding was detected! For correct generation results, please set `padding_side='left'` when initializing the tokenizer.\n"
          ]
        },
        {
          "name": "stdout",
          "output_type": "stream",
          "text": [
            "Pandora: I am sorry to hear that. What is the reason behind this?\n",
            ">> User:i feel anxious for my first day at work\n"
          ]
        },
        {
          "output_type": "stream",
          "name": "stderr",
          "text": [
            "A decoder-only architecture is being used, but right-padding was detected! For correct generation results, please set `padding_side='left'` when initializing the tokenizer.\n"
          ]
        },
        {
          "name": "stdout",
          "output_type": "stream",
          "text": [
            "Pandora: I'm sorry to hear that. What is the reason behind this?\n",
            ">> User:i m bad at making conversation so i have anxiety about today\n"
          ]
        },
        {
          "output_type": "stream",
          "name": "stderr",
          "text": [
            "A decoder-only architecture is being used, but right-padding was detected! For correct generation results, please set `padding_side='left'` when initializing the tokenizer.\n"
          ]
        },
        {
          "name": "stdout",
          "output_type": "stream",
          "text": [
            ">> Pandora: m, I sense that you might be feeling stressed.\n",
            "If the feelings of stress persist, I suggest you seek help from a qualified mental health professional.\n",
            "In the meantime, I'm here to help! Would you be interested in learning more about the symptoms of stress so you can assess if that resonates with your own experience?\n",
            "[Please answer with only yes/no.]\n",
            "\n",
            "yes\n",
            ">> Pandora: Symptoms of stress:\n",
            "Anxiety\n",
            "Skin problems\n",
            "Menstrual problems\n",
            "Headaches\n",
            "Trouble sleeping\n",
            "Jaw pain\n",
            "Changes in appetite\n",
            "Frequent mood swings\n",
            "Difficulty concentrating\n",
            "Feeling overwhelmed\n",
            "Increased use of tobacco, alcohol, or drugs\n",
            "Worsening of chronic health or mental health problems\n",
            "\n",
            ">> Pandora: m, would you also like some tips on how to reduce stress?\n",
            "[Please answer with only yes/no.]\n",
            "\n",
            "yes\n",
            ">> Pandora: Ways to reduce stress:\n",
            "1. Accept your needs: Recognize what your triggers are. What situations make you feel physically and mentally agitated? Once you know this, you can avoid them when it's reasonable to, and cope when you can't.\n",
            "2. Manage your time: Prioritizing your activities can help you use your time well. Making a day-to-day schedule helps ensure you don't feel overwhelmed by everyday tasks and deadlines.\n",
            "3. Practice relaxation: Deep breathing, meditation, and progressive muscle relaxation are good ways to calm yourself. Taking a break to refocus can have benefits beyond the immediate moment.\n",
            "4. Exercise daily: Schedule time to walk outside, bike, or join a dance class. Whatever you do, make sure it's fun. Daily exercise naturally produces stress-relieving hormones in your body and improves your overall physical health.\n",
            "5. Set aside time for yourself: Schedule something that makes you feel good. It might be reading a book, going to the movies, getting a massage, or taking your dog for a walk.\n",
            "6. Eat well: Eating unprocessed foods, like whole grains, vegetables, and fresh fruit, is the foundation for a healthy body and mind. Eating well can also help stabilize your mood.\n",
            "7. Get enough sleep: Symptoms of some mental health conditions, like mania in bipolar disorder, can be triggered by getting too little sleep.\n",
            "8. Avoid alcohol and drugs: They don't actually reduce stress; in fact, they often worsen it. If you're struggling with substance abuse, educate yourself and get help.\n",
            "9. Talk to someone: Whether to friends, family, a counselor, or a support group, airing out and talking can help.\n",
            "\n",
            ">> Pandora: In addition to this information, would you like a helpline in greece that can offer support to help you cope with stress?\n",
            "[Please answer with only yes/no.]\n",
            "\n",
            "yes\n",
            "\n",
            ">> Pandora: Helpline in greece :\n",
            "1018 \n",
            "\n",
            ">> Pandora: If this helpline does not meet your needs, would you like a site that you can visit for additional options?\n",
            "[Please answer with only yes/no.]\n",
            "\n",
            "yes\n",
            "\n",
            ">> Pandora: Site for additional options:\n",
            "findahelpline.com\n",
            ">> Pandora: Thank you for answering all the questions! I hope the information provided is helpful. If you have any more questions or need further assistance, feel free to ask. Take care!\n",
            "\n",
            ">> Pandora: What else would you like to discuss?\n",
            "[If you want to restart the conversation please enter restart, if you want to close the chatbot press exit, if you want to continue making conversation just skip]\n",
            "\n",
            "restart\n",
            "\n",
            ">> Pandora:  Sure! Let's start over.\n",
            ">> Pandora: What should I call you?\n",
            "\n",
            "[Please enter only your first name.]\n",
            "\n",
            "margarita\n",
            ">> Pandora: Nice to meet you, margarita.\n",
            ">> Pandora: Which country are you from?[Please enter only your country.]\n",
            "\n",
            "italy\n",
            ">> Pandora: Hello margarita! Let's get started!\n",
            "Tell me what's bothering you.\n",
            "\n",
            ">> User:i am sad\n"
          ]
        },
        {
          "output_type": "stream",
          "name": "stderr",
          "text": [
            "A decoder-only architecture is being used, but right-padding was detected! For correct generation results, please set `padding_side='left'` when initializing the tokenizer.\n"
          ]
        },
        {
          "name": "stdout",
          "output_type": "stream",
          "text": [
            "Pandora: I'm here for you. Could you tell me why you're feeling this way?\n",
            ">> User:i failed one exan\n"
          ]
        },
        {
          "output_type": "stream",
          "name": "stderr",
          "text": [
            "A decoder-only architecture is being used, but right-padding was detected! For correct generation results, please set `padding_side='left'` when initializing the tokenizer.\n"
          ]
        },
        {
          "name": "stdout",
          "output_type": "stream",
          "text": [
            "Pandora: I'm sorry to hear that. What's the reason behind this?\n",
            ">> User:i was anxious and i didn't make it in time\n"
          ]
        },
        {
          "output_type": "stream",
          "name": "stderr",
          "text": [
            "A decoder-only architecture is being used, but right-padding was detected! For correct generation results, please set `padding_side='left'` when initializing the tokenizer.\n"
          ]
        },
        {
          "output_type": "stream",
          "name": "stdout",
          "text": [
            ">> Pandora: margarita, I sense that you might be feeling stressed.\n",
            "If the feelings of stress persist, I suggest you seek help from a qualified mental health professional.\n",
            "In the meantime, I'm here to help! Would you be interested in learning more about the symptoms of stress so you can assess if that resonates with your own experience?\n",
            "[Please answer with only yes/no.]\n",
            "\n",
            "no\n",
            ">> Pandora: Alright, if you change your mind or need any assistance, feel free to let me know. Take care!\n",
            "\n",
            ">> Pandora: What else would you like to discuss?\n",
            "[If you want to restart the conversation please enter restart, if you want to close the chatbot press exit, if you want to continue making conversation just skip]\n",
            "\n",
            "exit\n",
            "\n",
            ">> Pandora: Goodbye! If you or someone else need any assistance in the future, feel free to reach out. Take care!\n"
          ]
        }
      ]
    }
  ]
}